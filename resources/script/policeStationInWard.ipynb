{
 "cells": [
  {
   "cell_type": "code",
   "execution_count": 1,
   "metadata": {},
   "outputs": [],
   "source": [
    "import json\n",
    "from shapely.geometry import Point, Polygon, shape\n",
    "\n",
    "with open(\"BBMP-Wards-Map.json\") as f:\n",
    "    ward_data = json.load(f)"
   ]
  },
  {
   "cell_type": "code",
   "execution_count": 2,
   "metadata": {},
   "outputs": [
    {
     "name": "stdout",
     "output_type": "stream",
     "text": [
      "ward count is 198\n"
     ]
    }
   ],
   "source": [
    "features_ward = ward_data['features']\n",
    "count=0\n",
    "for item in features_ward:\n",
    "    count=count+1\n",
    "print(\"ward count is %d\" %count)"
   ]
  },
  {
   "cell_type": "code",
   "execution_count": 3,
   "metadata": {},
   "outputs": [],
   "source": [
    "import json\n",
    "with open(\"bengaluru-police-stations_planet_osm_point_points.json\") as f:\n",
    "    police_station_data = json.load(f)"
   ]
  },
  {
   "cell_type": "code",
   "execution_count": 6,
   "metadata": {},
   "outputs": [],
   "source": [
    "features_police = police_station_data['features']\n",
    "\n",
    "count=0\n",
    "for item in features_police:\n",
    "    police_point = Point(item['geometry']['coordinates'])    \n",
    "    for ward in features_ward:\n",
    "        ward_polygon = shape(item['geometry'])\n",
    "        if ward_polygon.contains(police_point):        \n",
    "            if 'police_station' in ward['properties']:\n",
    "                    ward['properties']['police_station'] = ward['properties']['police_station'] + 1                    \n",
    "            else:\n",
    "                ward['properties']['police_station'] = 1\n",
    "with open('ward_police.json', 'w') as outfile:\n",
    "    json.dump(ward_data, outfile)"
   ]
  },
  {
   "cell_type": "code",
   "execution_count": null,
   "metadata": {},
   "outputs": [],
   "source": []
  }
 ],
 "metadata": {
  "kernelspec": {
   "display_name": "Python 3",
   "language": "python",
   "name": "python3"
  },
  "language_info": {
   "codemirror_mode": {
    "name": "ipython",
    "version": 3
   },
   "file_extension": ".py",
   "mimetype": "text/x-python",
   "name": "python",
   "nbconvert_exporter": "python",
   "pygments_lexer": "ipython3",
   "version": "3.6.4"
  }
 },
 "nbformat": 4,
 "nbformat_minor": 2
}

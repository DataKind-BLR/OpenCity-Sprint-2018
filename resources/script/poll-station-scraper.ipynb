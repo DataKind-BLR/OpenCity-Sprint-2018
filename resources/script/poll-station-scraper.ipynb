{
 "cells": [
  {
   "cell_type": "markdown",
   "metadata": {},
   "source": [
    "# Polling stations scraper\n",
    "\n",
    "This script was written to extract polling stations information from psleci.nic.in website for non-commercial \n",
    "analyses purposes."
   ]
  },
  {
   "cell_type": "markdown",
   "metadata": {},
   "source": [
    "Execute `pip install -r requirements-polling-stations-scraper.txt` before continuing."
   ]
  },
  {
   "cell_type": "code",
   "execution_count": 1,
   "metadata": {},
   "outputs": [],
   "source": [
    "import pandas as pd # pandas, because easy data manipulation\n",
    "import requests as req # to make requests with\n",
    "from multiprocessing import Pool, Manager, Process"
   ]
  },
  {
   "cell_type": "markdown",
   "metadata": {},
   "source": [
    "\n",
    "We are only looking for poll-stations in Bangalore, so we will `S` variable  will remain intact in the following URL.\n",
    "http://psleci.nic.in/pslamf.aspx?S=S10&A=150&P=1\n",
    "\n",
    "We will increment `A` and `P` variables, till we do not get new data.\n",
    "The website doesn't respond with a HTTP 4xx code when given outlandish variables.\n",
    "For example, when we look for the Ten thousandth polling station in Belgaum http://psleci.nic.in/pslamf.aspx?S=S10&A=150&P=1, \n",
    "it doesn't give a 4xx status code."
   ]
  },
  {
   "cell_type": "code",
   "execution_count": 2,
   "metadata": {},
   "outputs": [],
   "source": [
    "completed_url_list = []"
   ]
  },
  {
   "cell_type": "code",
   "execution_count": 3,
   "metadata": {},
   "outputs": [],
   "source": [
    "data = []"
   ]
  },
  {
   "cell_type": "code",
   "execution_count": null,
   "metadata": {
    "scrolled": false
   },
   "outputs": [
    {
     "name": "stdout",
     "output_type": "stream",
     "text": [
      "generated url list\n"
     ]
    }
   ],
   "source": [
    "URL = 'http://psleci.nic.in/pslamf.aspx?S=S10&A=150&P={:d}'\n",
    "url_list = []\n",
    "\n",
    "\n",
    "def scrape_polling_station(url):\n",
    "    try:\n",
    "        \n",
    "        if url not in completed_url_list:\n",
    "            temp_ps = pd.read_html(url)\n",
    "            ps_df = temp_ps[0].copy()\n",
    "            ps_df.loc[1:4, :]= ps_df.loc[1:4, 0].apply(lambda v: pd.Series(v.split(':')))\n",
    "            ps_df = ps_df.drop(0, axis=0).T\n",
    "            ps_df.columns = ps_df.loc[0]\n",
    "            ps_df = ps_df.drop(0, axis=0)\n",
    "            \n",
    "            completed_url_list.append(url)\n",
    "            data.append(ps_df)\n",
    "            return ps_df\n",
    "        else:\n",
    "            print(\"cached ps: \", ps_name)\n",
    "    except Exception as e:\n",
    "        print(e)\n",
    "        print(url)\n",
    "        print(len(data))\n",
    "        scrape_polling_station(url)\n",
    "\n",
    "        \n",
    "def append_data(datum):\n",
    "    '''\n",
    "        appends data to multiprocessing collector object\n",
    "    '''\n",
    "    data.append(datum)\n",
    "\n",
    "# generating url list for multiprocessing\n",
    "# for ind_district in range(1, 100):\n",
    "for ind_polling_station in range(1, 5000):\n",
    "    url_list.append(URL.format(ind_polling_station))\n",
    "print('generated url list')\n",
    "\n",
    "pool=Pool()\n",
    "for url in url_list:\n",
    "    r = pool.apply_async(scrape_polling_station, \n",
    "                  (url,),\n",
    "                  callback=append_data).get()"
   ]
  },
  {
   "cell_type": "code",
   "execution_count": 8,
   "metadata": {},
   "outputs": [
    {
     "data": {
      "text/plain": [
       "(402, 33)"
      ]
     },
     "execution_count": 8,
     "metadata": {},
     "output_type": "execute_result"
    }
   ],
   "source": [
    "pd.concat(data).dropna(how='all').to_csv(\"polling-stations-bangalore.csv\", index=False)"
   ]
  },
  {
   "cell_type": "code",
   "execution_count": null,
   "metadata": {},
   "outputs": [],
   "source": []
  },
  {
   "cell_type": "code",
   "execution_count": null,
   "metadata": {},
   "outputs": [],
   "source": []
  },
  {
   "cell_type": "code",
   "execution_count": null,
   "metadata": {},
   "outputs": [],
   "source": []
  },
  {
   "cell_type": "code",
   "execution_count": null,
   "metadata": {},
   "outputs": [],
   "source": []
  },
  {
   "cell_type": "code",
   "execution_count": null,
   "metadata": {},
   "outputs": [],
   "source": []
  },
  {
   "cell_type": "code",
   "execution_count": null,
   "metadata": {},
   "outputs": [],
   "source": []
  },
  {
   "cell_type": "code",
   "execution_count": null,
   "metadata": {},
   "outputs": [],
   "source": []
  },
  {
   "cell_type": "code",
   "execution_count": null,
   "metadata": {},
   "outputs": [],
   "source": []
  }
 ],
 "metadata": {
  "kernelspec": {
   "display_name": "Python 3",
   "language": "python",
   "name": "python3"
  },
  "language_info": {
   "codemirror_mode": {
    "name": "ipython",
    "version": 3
   },
   "file_extension": ".py",
   "mimetype": "text/x-python",
   "name": "python",
   "nbconvert_exporter": "python",
   "pygments_lexer": "ipython3",
   "version": "3.6.4"
  },
  "toc": {
   "base_numbering": 1,
   "nav_menu": {},
   "number_sections": false,
   "sideBar": false,
   "skip_h1_title": false,
   "title_cell": "Table of Contents",
   "title_sidebar": "Contents",
   "toc_cell": false,
   "toc_position": {},
   "toc_section_display": false,
   "toc_window_display": false
  }
 },
 "nbformat": 4,
 "nbformat_minor": 2
}
